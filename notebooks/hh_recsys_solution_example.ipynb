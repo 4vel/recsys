{
 "cells": [
  {
   "cell_type": "code",
   "execution_count": 1,
   "metadata": {
    "ExecuteTime": {
     "end_time": "2024-01-27T20:10:27.926115Z",
     "start_time": "2024-01-27T20:10:27.919813Z"
    }
   },
   "outputs": [],
   "source": [
    "# !pip install polars numpy implicit tqdm"
   ]
  },
  {
   "cell_type": "code",
   "execution_count": 2,
   "outputs": [],
   "source": [
    "# !pip install --upgrade pip"
   ],
   "metadata": {
    "collapsed": false,
    "ExecuteTime": {
     "end_time": "2024-01-27T20:10:28.159423Z",
     "start_time": "2024-01-27T20:10:28.150884Z"
    }
   }
  },
  {
   "cell_type": "code",
   "execution_count": 1,
   "outputs": [],
   "source": [
    "# !pip install pyarrow"
   ],
   "metadata": {
    "collapsed": false,
    "ExecuteTime": {
     "end_time": "2024-01-28T10:15:44.712173Z",
     "start_time": "2024-01-28T10:15:44.701089Z"
    }
   }
  },
  {
   "cell_type": "code",
   "execution_count": 16,
   "outputs": [],
   "source": [
    "# !pip install pandas"
   ],
   "metadata": {
    "collapsed": false,
    "ExecuteTime": {
     "end_time": "2024-01-28T17:33:25.456062Z",
     "start_time": "2024-01-28T17:33:25.452888Z"
    }
   }
  },
  {
   "cell_type": "code",
   "execution_count": 3,
   "metadata": {
    "ExecuteTime": {
     "end_time": "2024-01-31T12:16:26.144259Z",
     "start_time": "2024-01-31T12:16:08.258241Z"
    }
   },
   "outputs": [],
   "source": [
    "import polars as pl\n",
    "import numpy as np\n",
    "from tqdm import tqdm\n",
    "from scipy.sparse import csr_matrix\n",
    "import implicit\n",
    "import pyarrow\n",
    "import pandas as pd\n",
    "\n",
    "RANDOM_STATE = 42\n",
    "N_PREDICTIONS = 100\n"
   ]
  },
  {
   "cell_type": "code",
   "execution_count": 9,
   "outputs": [],
   "source": [],
   "metadata": {
    "collapsed": false,
    "ExecuteTime": {
     "end_time": "2024-01-28T10:25:00.366550Z",
     "start_time": "2024-01-28T10:25:00.358843Z"
    }
   }
  },
  {
   "cell_type": "code",
   "execution_count": 10,
   "outputs": [
    {
     "name": "stdout",
     "output_type": "stream",
     "text": [
      "hh_recsys_sample.pq               hh_recsys_train_hh.pq\r\n",
      "hh_recsys_solution_example.ipynb  hh_recsys_vacancies.pq\r\n",
      "hh_recsys_solution_example_.ipynb \u001B[34mvenv\u001B[m\u001B[m\r\n",
      "hh_recsys_test_hh.pq\r\n"
     ]
    }
   ],
   "source": [
    "!ls"
   ],
   "metadata": {
    "collapsed": false,
    "ExecuteTime": {
     "end_time": "2024-01-28T10:25:01.330242Z",
     "start_time": "2024-01-28T10:25:00.952445Z"
    }
   }
  },
  {
   "cell_type": "code",
   "execution_count": 6,
   "metadata": {
    "ExecuteTime": {
     "end_time": "2024-01-31T12:17:40.390033Z",
     "start_time": "2024-01-31T12:17:37.537789Z"
    }
   },
   "outputs": [],
   "source": [
    "train = pl.read_parquet(\"../data/hh_recsys_train_hh.pq\")\n",
    "test = pl.read_parquet(\"../data/hh_recsys_test_hh.pq\")"
   ]
  },
  {
   "cell_type": "code",
   "execution_count": 7,
   "outputs": [],
   "source": [
    "vacancies = pl.read_parquet(\"../data/hh_recsys_vacancies.pq\")"
   ],
   "metadata": {
    "collapsed": false,
    "ExecuteTime": {
     "end_time": "2024-01-31T12:23:10.903423Z",
     "start_time": "2024-01-31T12:17:49.634629Z"
    }
   }
  },
  {
   "cell_type": "code",
   "execution_count": 0,
   "metadata": {},
   "outputs": [],
   "source": [
    "# train = train.to_pandas()"
   ]
  },
  {
   "cell_type": "code",
   "execution_count": 13,
   "outputs": [],
   "source": [
    "# test = test.to_pandas()"
   ],
   "metadata": {
    "collapsed": false,
    "ExecuteTime": {
     "end_time": "2024-01-28T10:25:36.332461Z",
     "start_time": "2024-01-28T10:25:36.147996Z"
    }
   }
  },
  {
   "cell_type": "code",
   "execution_count": 14,
   "outputs": [],
   "source": [
    "# vacancies = vacancies.to_pandas()"
   ],
   "metadata": {
    "collapsed": false,
    "ExecuteTime": {
     "end_time": "2024-01-28T10:28:11.764370Z",
     "start_time": "2024-01-28T10:26:25.144227Z"
    }
   }
  },
  {
   "cell_type": "code",
   "execution_count": 4,
   "outputs": [],
   "source": [
    "# vacancies.to_pickle('vacancies.pkl')"
   ],
   "metadata": {
    "collapsed": false,
    "ExecuteTime": {
     "end_time": "2024-01-31T12:16:53.397045Z",
     "start_time": "2024-01-31T12:16:53.390648Z"
    }
   }
  },
  {
   "cell_type": "code",
   "execution_count": 4,
   "metadata": {
    "ExecuteTime": {
     "end_time": "2024-01-31T12:16:54.456312Z",
     "start_time": "2024-01-31T12:16:54.450281Z"
    }
   },
   "outputs": [],
   "source": []
  },
  {
   "cell_type": "code",
   "execution_count": 18,
   "metadata": {
    "ExecuteTime": {
     "end_time": "2024-01-28T17:33:41.434935Z",
     "start_time": "2024-01-28T17:33:41.421490Z"
    }
   },
   "outputs": [
    {
     "data": {
      "text/plain": "         user_id  session_id  \\\n0       u_482520  s_25018731   \n1       u_582132    s_481216   \n2       u_212584  s_16918781   \n3       u_425177  s_17505104   \n4       u_700997  s_15528830   \n...          ...         ...   \n83184   u_499368  s_19158589   \n83185  u_1084868  s_24756162   \n83186  u_1138032  s_25291467   \n83187   u_608102  s_18813020   \n83188   u_847738   s_7662913   \n\n                                              vacancy_id  \\\n0                      [v_2597196, v_1223061, v_1223061]   \n1                        [v_470400, v_470400, v_1530783]   \n2      [v_1572055, v_1572055, v_1572055, v_953153, v_...   \n3                                 [v_1375331, v_1922852]   \n4                      [v_2152997, v_2152997, v_1217630]   \n...                                                  ...   \n83184  [v_1716634, v_2232327, v_2232327, v_2232327, v...   \n83185                              [v_395706, v_2405231]   \n83186       [v_1213925, v_1213925, v_2359832, v_2359832]   \n83187  [v_933773, v_933773, v_2021127, v_1508520, v_2...   \n83188  [v_875568, v_2677852, v_1562269, v_2548403, v_...   \n\n                                      action_type  \\\n0                                       [2, 2, 1]   \n1                                       [2, 1, 2]   \n2            [2, 3, 2, 2, 1, 2, 2, 1, 2, 1, 2, 1]   \n3                                          [2, 2]   \n4                                       [2, 1, 2]   \n...                                           ...   \n83184     [2, 2, 1, 2, 2, 2, 1, 2, 2, 2, 2, 2, 2]   \n83185                                      [2, 2]   \n83186                                [2, 1, 2, 1]   \n83187                       [3, 2, 2, 2, 2, 1, 2]   \n83188  [2, 2, 2, 2, 2, 2, 2, 2, 2, 2, 1, 2, 2, 2]   \n\n                                               action_dt  \n0      [2023-11-19T12:03:13.089000000, 2023-11-19T12:...  \n1      [2023-11-21T15:39:47.981000000, 2023-11-21T15:...  \n2      [2023-11-16T08:41:47.031000000, 2023-11-16T08:...  \n3      [2023-11-17T12:42:18.513000000, 2023-11-17T12:...  \n4      [2023-11-16T17:22:53.530000000, 2023-11-16T17:...  \n...                                                  ...  \n83184  [2023-11-18T03:15:15.530000000, 2023-11-18T03:...  \n83185  [2023-11-15T18:06:16.550000000, 2023-11-15T18:...  \n83186  [2023-11-19T23:19:44.092000000, 2023-11-19T23:...  \n83187  [2023-11-16T15:40:09.408000000, 2023-11-16T15:...  \n83188  [2023-11-17T13:34:03.386000000, 2023-11-17T13:...  \n\n[83189 rows x 5 columns]",
      "text/html": "<div>\n<style scoped>\n    .dataframe tbody tr th:only-of-type {\n        vertical-align: middle;\n    }\n\n    .dataframe tbody tr th {\n        vertical-align: top;\n    }\n\n    .dataframe thead th {\n        text-align: right;\n    }\n</style>\n<table border=\"1\" class=\"dataframe\">\n  <thead>\n    <tr style=\"text-align: right;\">\n      <th></th>\n      <th>user_id</th>\n      <th>session_id</th>\n      <th>vacancy_id</th>\n      <th>action_type</th>\n      <th>action_dt</th>\n    </tr>\n  </thead>\n  <tbody>\n    <tr>\n      <th>0</th>\n      <td>u_482520</td>\n      <td>s_25018731</td>\n      <td>[v_2597196, v_1223061, v_1223061]</td>\n      <td>[2, 2, 1]</td>\n      <td>[2023-11-19T12:03:13.089000000, 2023-11-19T12:...</td>\n    </tr>\n    <tr>\n      <th>1</th>\n      <td>u_582132</td>\n      <td>s_481216</td>\n      <td>[v_470400, v_470400, v_1530783]</td>\n      <td>[2, 1, 2]</td>\n      <td>[2023-11-21T15:39:47.981000000, 2023-11-21T15:...</td>\n    </tr>\n    <tr>\n      <th>2</th>\n      <td>u_212584</td>\n      <td>s_16918781</td>\n      <td>[v_1572055, v_1572055, v_1572055, v_953153, v_...</td>\n      <td>[2, 3, 2, 2, 1, 2, 2, 1, 2, 1, 2, 1]</td>\n      <td>[2023-11-16T08:41:47.031000000, 2023-11-16T08:...</td>\n    </tr>\n    <tr>\n      <th>3</th>\n      <td>u_425177</td>\n      <td>s_17505104</td>\n      <td>[v_1375331, v_1922852]</td>\n      <td>[2, 2]</td>\n      <td>[2023-11-17T12:42:18.513000000, 2023-11-17T12:...</td>\n    </tr>\n    <tr>\n      <th>4</th>\n      <td>u_700997</td>\n      <td>s_15528830</td>\n      <td>[v_2152997, v_2152997, v_1217630]</td>\n      <td>[2, 1, 2]</td>\n      <td>[2023-11-16T17:22:53.530000000, 2023-11-16T17:...</td>\n    </tr>\n    <tr>\n      <th>...</th>\n      <td>...</td>\n      <td>...</td>\n      <td>...</td>\n      <td>...</td>\n      <td>...</td>\n    </tr>\n    <tr>\n      <th>83184</th>\n      <td>u_499368</td>\n      <td>s_19158589</td>\n      <td>[v_1716634, v_2232327, v_2232327, v_2232327, v...</td>\n      <td>[2, 2, 1, 2, 2, 2, 1, 2, 2, 2, 2, 2, 2]</td>\n      <td>[2023-11-18T03:15:15.530000000, 2023-11-18T03:...</td>\n    </tr>\n    <tr>\n      <th>83185</th>\n      <td>u_1084868</td>\n      <td>s_24756162</td>\n      <td>[v_395706, v_2405231]</td>\n      <td>[2, 2]</td>\n      <td>[2023-11-15T18:06:16.550000000, 2023-11-15T18:...</td>\n    </tr>\n    <tr>\n      <th>83186</th>\n      <td>u_1138032</td>\n      <td>s_25291467</td>\n      <td>[v_1213925, v_1213925, v_2359832, v_2359832]</td>\n      <td>[2, 1, 2, 1]</td>\n      <td>[2023-11-19T23:19:44.092000000, 2023-11-19T23:...</td>\n    </tr>\n    <tr>\n      <th>83187</th>\n      <td>u_608102</td>\n      <td>s_18813020</td>\n      <td>[v_933773, v_933773, v_2021127, v_1508520, v_2...</td>\n      <td>[3, 2, 2, 2, 2, 1, 2]</td>\n      <td>[2023-11-16T15:40:09.408000000, 2023-11-16T15:...</td>\n    </tr>\n    <tr>\n      <th>83188</th>\n      <td>u_847738</td>\n      <td>s_7662913</td>\n      <td>[v_875568, v_2677852, v_1562269, v_2548403, v_...</td>\n      <td>[2, 2, 2, 2, 2, 2, 2, 2, 2, 2, 1, 2, 2, 2]</td>\n      <td>[2023-11-17T13:34:03.386000000, 2023-11-17T13:...</td>\n    </tr>\n  </tbody>\n</table>\n<p>83189 rows × 5 columns</p>\n</div>"
     },
     "execution_count": 18,
     "metadata": {},
     "output_type": "execute_result"
    }
   ],
   "source": [
    "test"
   ]
  },
  {
   "cell_type": "code",
   "execution_count": 19,
   "metadata": {
    "ExecuteTime": {
     "end_time": "2024-01-28T17:33:43.308972Z",
     "start_time": "2024-01-28T17:33:43.281629Z"
    }
   },
   "outputs": [
    {
     "data": {
      "text/plain": "        vacancy_id                                               name  \\\n0         v_862116                                Смотритель музейный   \n1         v_288642    Ведущий менеджер по работе с физическими лицами   \n2        v_1840054                    Бухгалтер (по расчету зарплаты)   \n3        v_2346232                Пекарь (Токсово, Привокзальная, 16)   \n4         v_312507                 Торговый представитель (г. Абакан)   \n...            ...                                                ...   \n2734124  v_2484959                                  Сборщик-упаковщик   \n2734125   v_205163                             Сварщик на полуавтомат   \n2734126   v_639897             Главный инженер / Технический директор   \n2734127  v_1636531  Провизор/Фармацевт (г.Адыгейск, 20 км от Красн...   \n2734128  v_1689739     Продавец-консультант в магазин бытовой техники   \n\n        company.id                                        description  \\\n0         c_162972  <strong>Обязанности:</strong> <ul> <li>Осущест...   \n1         c_208672  <p><strong>Возможно, наша вакансия именно та, ...   \n2         c_198109  <strong>Обязанности:</strong> <ul> <li>Расчет ...   \n3           c_6137  <p><strong>Для каждого, кто хочет работать и з...   \n4         c_206699  <p>Компания ТД &quot;Оливьера&quot;- лучший ди...   \n...            ...                                                ...   \n2734124   c_203256  <p><strong>Обязанности:</strong></p> <ul> <li>...   \n2734125   c_158695  <p>ОКЛАД 80 000 РУБЛЕЙ. В связи с увеличением ...   \n2734126   c_209365  <p>Компания<strong> МОБИЛЬНЫЙ ДОМ - ЛИДЕР В СФ...   \n2734127   c_246244  <strong>Требования:</strong> <ul> <li> <p>Зако...   \n2734128    c_73191  <strong>Обязанности:</strong> <ul> <li>консуль...   \n\n                                        keySkills.keySkill  compensation.from  \\\n0        [Пользователь ПК, Работа в команде, Умение пла...            16500.0   \n1        [Активные продажи, Холодные продажи, Кредитные...            50000.0   \n2                                                     None            50000.0   \n3                                                     None            38500.0   \n4        [Продуктивность, Клиентоориентированность, Упр...            60000.0   \n...                                                    ...                ...   \n2734124  [Пользователь ПК, Умение работать в команде, У...            40000.0   \n2734125  [Желание работать и зарабатывать, Высокая энер...            80000.0   \n2734126  [Контроль исправности оборудования, Инженерные...           200000.0   \n2734127   [Предпечатная подготовка, Статистический анализ]            25000.0   \n2734128  [1С: Торговля, Грамотная речь, Консультативные...            25000.0   \n\n         compensation.to compensation.currencyCode area.id area.regionId  \\\n0                    NaN                       RUR  a_4761         ar_33   \n1                    NaN                       RUR   a_744          ar_2   \n2                65000.0                       RUR  a_6223         ar_78   \n3                42000.0                       RUR  a_4795         ar_51   \n4                    NaN                       RUR  a_6837          ar_4   \n...                  ...                       ...     ...           ...   \n2734124          90000.0                       RUR  a_5387         ar_71   \n2734125         130000.0                       RUR  a_5527         ar_69   \n2734126              NaN                       RUR  a_1756         ar_41   \n2734127              NaN                       RUR  a_3403         ar_60   \n2734128              NaN                       RUR  a_1690         ar_91   \n\n        employment workSchedule workExperience  \n0             full      fullDay   noExperience  \n1             full      fullDay   noExperience  \n2             full      fullDay   between3And6  \n3             full      fullDay   noExperience  \n4             full      fullDay   between1And3  \n...            ...          ...            ...  \n2734124       full     flexible   noExperience  \n2734125       full      fullDay   between1And3  \n2734126       full      fullDay   between1And3  \n2734127       full      fullDay   noExperience  \n2734128       full      fullDay   between1And3  \n\n[2734129 rows x 13 columns]",
      "text/html": "<div>\n<style scoped>\n    .dataframe tbody tr th:only-of-type {\n        vertical-align: middle;\n    }\n\n    .dataframe tbody tr th {\n        vertical-align: top;\n    }\n\n    .dataframe thead th {\n        text-align: right;\n    }\n</style>\n<table border=\"1\" class=\"dataframe\">\n  <thead>\n    <tr style=\"text-align: right;\">\n      <th></th>\n      <th>vacancy_id</th>\n      <th>name</th>\n      <th>company.id</th>\n      <th>description</th>\n      <th>keySkills.keySkill</th>\n      <th>compensation.from</th>\n      <th>compensation.to</th>\n      <th>compensation.currencyCode</th>\n      <th>area.id</th>\n      <th>area.regionId</th>\n      <th>employment</th>\n      <th>workSchedule</th>\n      <th>workExperience</th>\n    </tr>\n  </thead>\n  <tbody>\n    <tr>\n      <th>0</th>\n      <td>v_862116</td>\n      <td>Смотритель музейный</td>\n      <td>c_162972</td>\n      <td>&lt;strong&gt;Обязанности:&lt;/strong&gt; &lt;ul&gt; &lt;li&gt;Осущест...</td>\n      <td>[Пользователь ПК, Работа в команде, Умение пла...</td>\n      <td>16500.0</td>\n      <td>NaN</td>\n      <td>RUR</td>\n      <td>a_4761</td>\n      <td>ar_33</td>\n      <td>full</td>\n      <td>fullDay</td>\n      <td>noExperience</td>\n    </tr>\n    <tr>\n      <th>1</th>\n      <td>v_288642</td>\n      <td>Ведущий менеджер по работе с физическими лицами</td>\n      <td>c_208672</td>\n      <td>&lt;p&gt;&lt;strong&gt;Возможно, наша вакансия именно та, ...</td>\n      <td>[Активные продажи, Холодные продажи, Кредитные...</td>\n      <td>50000.0</td>\n      <td>NaN</td>\n      <td>RUR</td>\n      <td>a_744</td>\n      <td>ar_2</td>\n      <td>full</td>\n      <td>fullDay</td>\n      <td>noExperience</td>\n    </tr>\n    <tr>\n      <th>2</th>\n      <td>v_1840054</td>\n      <td>Бухгалтер (по расчету зарплаты)</td>\n      <td>c_198109</td>\n      <td>&lt;strong&gt;Обязанности:&lt;/strong&gt; &lt;ul&gt; &lt;li&gt;Расчет ...</td>\n      <td>None</td>\n      <td>50000.0</td>\n      <td>65000.0</td>\n      <td>RUR</td>\n      <td>a_6223</td>\n      <td>ar_78</td>\n      <td>full</td>\n      <td>fullDay</td>\n      <td>between3And6</td>\n    </tr>\n    <tr>\n      <th>3</th>\n      <td>v_2346232</td>\n      <td>Пекарь (Токсово, Привокзальная, 16)</td>\n      <td>c_6137</td>\n      <td>&lt;p&gt;&lt;strong&gt;Для каждого, кто хочет работать и з...</td>\n      <td>None</td>\n      <td>38500.0</td>\n      <td>42000.0</td>\n      <td>RUR</td>\n      <td>a_4795</td>\n      <td>ar_51</td>\n      <td>full</td>\n      <td>fullDay</td>\n      <td>noExperience</td>\n    </tr>\n    <tr>\n      <th>4</th>\n      <td>v_312507</td>\n      <td>Торговый представитель (г. Абакан)</td>\n      <td>c_206699</td>\n      <td>&lt;p&gt;Компания ТД &amp;quot;Оливьера&amp;quot;- лучший ди...</td>\n      <td>[Продуктивность, Клиентоориентированность, Упр...</td>\n      <td>60000.0</td>\n      <td>NaN</td>\n      <td>RUR</td>\n      <td>a_6837</td>\n      <td>ar_4</td>\n      <td>full</td>\n      <td>fullDay</td>\n      <td>between1And3</td>\n    </tr>\n    <tr>\n      <th>...</th>\n      <td>...</td>\n      <td>...</td>\n      <td>...</td>\n      <td>...</td>\n      <td>...</td>\n      <td>...</td>\n      <td>...</td>\n      <td>...</td>\n      <td>...</td>\n      <td>...</td>\n      <td>...</td>\n      <td>...</td>\n      <td>...</td>\n    </tr>\n    <tr>\n      <th>2734124</th>\n      <td>v_2484959</td>\n      <td>Сборщик-упаковщик</td>\n      <td>c_203256</td>\n      <td>&lt;p&gt;&lt;strong&gt;Обязанности:&lt;/strong&gt;&lt;/p&gt; &lt;ul&gt; &lt;li&gt;...</td>\n      <td>[Пользователь ПК, Умение работать в команде, У...</td>\n      <td>40000.0</td>\n      <td>90000.0</td>\n      <td>RUR</td>\n      <td>a_5387</td>\n      <td>ar_71</td>\n      <td>full</td>\n      <td>flexible</td>\n      <td>noExperience</td>\n    </tr>\n    <tr>\n      <th>2734125</th>\n      <td>v_205163</td>\n      <td>Сварщик на полуавтомат</td>\n      <td>c_158695</td>\n      <td>&lt;p&gt;ОКЛАД 80 000 РУБЛЕЙ. В связи с увеличением ...</td>\n      <td>[Желание работать и зарабатывать, Высокая энер...</td>\n      <td>80000.0</td>\n      <td>130000.0</td>\n      <td>RUR</td>\n      <td>a_5527</td>\n      <td>ar_69</td>\n      <td>full</td>\n      <td>fullDay</td>\n      <td>between1And3</td>\n    </tr>\n    <tr>\n      <th>2734126</th>\n      <td>v_639897</td>\n      <td>Главный инженер / Технический директор</td>\n      <td>c_209365</td>\n      <td>&lt;p&gt;Компания&lt;strong&gt; МОБИЛЬНЫЙ ДОМ - ЛИДЕР В СФ...</td>\n      <td>[Контроль исправности оборудования, Инженерные...</td>\n      <td>200000.0</td>\n      <td>NaN</td>\n      <td>RUR</td>\n      <td>a_1756</td>\n      <td>ar_41</td>\n      <td>full</td>\n      <td>fullDay</td>\n      <td>between1And3</td>\n    </tr>\n    <tr>\n      <th>2734127</th>\n      <td>v_1636531</td>\n      <td>Провизор/Фармацевт (г.Адыгейск, 20 км от Красн...</td>\n      <td>c_246244</td>\n      <td>&lt;strong&gt;Требования:&lt;/strong&gt; &lt;ul&gt; &lt;li&gt; &lt;p&gt;Зако...</td>\n      <td>[Предпечатная подготовка, Статистический анализ]</td>\n      <td>25000.0</td>\n      <td>NaN</td>\n      <td>RUR</td>\n      <td>a_3403</td>\n      <td>ar_60</td>\n      <td>full</td>\n      <td>fullDay</td>\n      <td>noExperience</td>\n    </tr>\n    <tr>\n      <th>2734128</th>\n      <td>v_1689739</td>\n      <td>Продавец-консультант в магазин бытовой техники</td>\n      <td>c_73191</td>\n      <td>&lt;strong&gt;Обязанности:&lt;/strong&gt; &lt;ul&gt; &lt;li&gt;консуль...</td>\n      <td>[1С: Торговля, Грамотная речь, Консультативные...</td>\n      <td>25000.0</td>\n      <td>NaN</td>\n      <td>RUR</td>\n      <td>a_1690</td>\n      <td>ar_91</td>\n      <td>full</td>\n      <td>fullDay</td>\n      <td>between1And3</td>\n    </tr>\n  </tbody>\n</table>\n<p>2734129 rows × 13 columns</p>\n</div>"
     },
     "execution_count": 19,
     "metadata": {},
     "output_type": "execute_result"
    }
   ],
   "source": [
    "vacancies"
   ]
  },
  {
   "cell_type": "code",
   "execution_count": null,
   "outputs": [],
   "source": [
    "vacancies"
   ],
   "metadata": {
    "collapsed": false
   }
  },
  {
   "cell_type": "code",
   "execution_count": 9,
   "metadata": {
    "ExecuteTime": {
     "end_time": "2024-01-27T21:14:32.765232Z",
     "start_time": "2024-01-27T21:14:32.454883Z"
    }
   },
   "outputs": [],
   "source": [
    "# Берется массив просмотренных вакансий из теста\n",
    "# преобразуют их список уникальных вакансий и берут последние 2\n",
    "# массив из списков преобразуют в список\n",
    "predictions = test.select(pl.col('vacancy_id').list.unique(maintain_order=True).list.tail(2))['vacancy_id'].to_list()"
   ]
  },
  {
   "cell_type": "code",
   "execution_count": null,
   "outputs": [],
   "source": [],
   "metadata": {
    "collapsed": false
   }
  },
  {
   "cell_type": "code",
   "execution_count": 9,
   "outputs": [],
   "source": [],
   "metadata": {
    "collapsed": false,
    "ExecuteTime": {
     "end_time": "2024-01-27T21:14:33.578772Z",
     "start_time": "2024-01-27T21:14:33.561056Z"
    }
   }
  },
  {
   "cell_type": "code",
   "execution_count": 10,
   "outputs": [],
   "source": [
    "# predictions"
   ],
   "metadata": {
    "collapsed": false,
    "ExecuteTime": {
     "end_time": "2024-01-27T21:14:35.340829Z",
     "start_time": "2024-01-27T21:14:35.328104Z"
    }
   }
  },
  {
   "cell_type": "code",
   "execution_count": 11,
   "outputs": [
    {
     "data": {
      "text/plain": "shape: (83_189, 5)\n┌───────────┬────────────┬─────────────────────────────┬─────────────┬─────────────────────────────┐\n│ user_id   ┆ session_id ┆ vacancy_id                  ┆ action_type ┆ action_dt                   │\n│ ---       ┆ ---        ┆ ---                         ┆ ---         ┆ ---                         │\n│ str       ┆ str        ┆ list[str]                   ┆ list[i64]   ┆ list[datetime[ns]]          │\n╞═══════════╪════════════╪═════════════════════════════╪═════════════╪═════════════════════════════╡\n│ u_482520  ┆ s_25018731 ┆ [\"v_2597196\", \"v_1223061\",  ┆ [2, 2, 1]   ┆ [2023-11-19 12:03:13.089,   │\n│           ┆            ┆ \"v_12…                      ┆             ┆ 2023-1…                     │\n│ u_582132  ┆ s_481216   ┆ [\"v_470400\", \"v_470400\",    ┆ [2, 1, 2]   ┆ [2023-11-21 15:39:47.981,   │\n│           ┆            ┆ \"v_1530…                    ┆             ┆ 2023-1…                     │\n│ u_212584  ┆ s_16918781 ┆ [\"v_1572055\", \"v_1572055\",  ┆ [2, 3, … 1] ┆ [2023-11-16 08:41:47.031,   │\n│           ┆            ┆ … \"v_…                      ┆             ┆ 2023-1…                     │\n│ u_425177  ┆ s_17505104 ┆ [\"v_1375331\", \"v_1922852\"]  ┆ [2, 2]      ┆ [2023-11-17 12:42:18.513,   │\n│           ┆            ┆                             ┆             ┆ 2023-1…                     │\n│ u_700997  ┆ s_15528830 ┆ [\"v_2152997\", \"v_2152997\",  ┆ [2, 1, 2]   ┆ [2023-11-16 17:22:53.530,   │\n│           ┆            ┆ \"v_12…                      ┆             ┆ 2023-1…                     │\n│ …         ┆ …          ┆ …                           ┆ …           ┆ …                           │\n│ u_499368  ┆ s_19158589 ┆ [\"v_1716634\", \"v_2232327\",  ┆ [2, 2, … 2] ┆ [2023-11-18 03:15:15.530,   │\n│           ┆            ┆ … \"v_…                      ┆             ┆ 2023-1…                     │\n│ u_1084868 ┆ s_24756162 ┆ [\"v_395706\", \"v_2405231\"]   ┆ [2, 2]      ┆ [2023-11-15 18:06:16.550,   │\n│           ┆            ┆                             ┆             ┆ 2023-1…                     │\n│ u_1138032 ┆ s_25291467 ┆ [\"v_1213925\", \"v_1213925\",  ┆ [2, 1, … 1] ┆ [2023-11-19 23:19:44.092,   │\n│           ┆            ┆ … \"v_…                      ┆             ┆ 2023-1…                     │\n│ u_608102  ┆ s_18813020 ┆ [\"v_933773\", \"v_933773\", …  ┆ [3, 2, … 2] ┆ [2023-11-16 15:40:09.408,   │\n│           ┆            ┆ \"v_26…                      ┆             ┆ 2023-1…                     │\n│ u_847738  ┆ s_7662913  ┆ [\"v_875568\", \"v_2677852\", … ┆ [2, 2, … 2] ┆ [2023-11-17 13:34:03.386,   │\n│           ┆            ┆ \"v_1…                       ┆             ┆ 2023-1…                     │\n└───────────┴────────────┴─────────────────────────────┴─────────────┴─────────────────────────────┘",
      "text/html": "<div><style>\n.dataframe > thead > tr,\n.dataframe > tbody > tr {\n  text-align: right;\n  white-space: pre-wrap;\n}\n</style>\n<small>shape: (83_189, 5)</small><table border=\"1\" class=\"dataframe\"><thead><tr><th>user_id</th><th>session_id</th><th>vacancy_id</th><th>action_type</th><th>action_dt</th></tr><tr><td>str</td><td>str</td><td>list[str]</td><td>list[i64]</td><td>list[datetime[ns]]</td></tr></thead><tbody><tr><td>&quot;u_482520&quot;</td><td>&quot;s_25018731&quot;</td><td>[&quot;v_2597196&quot;, &quot;v_1223061&quot;, &quot;v_1223061&quot;]</td><td>[2, 2, 1]</td><td>[2023-11-19 12:03:13.089, 2023-11-19 12:03:30.396, 2023-11-19 12:05:03.473]</td></tr><tr><td>&quot;u_582132&quot;</td><td>&quot;s_481216&quot;</td><td>[&quot;v_470400&quot;, &quot;v_470400&quot;, &quot;v_1530783&quot;]</td><td>[2, 1, 2]</td><td>[2023-11-21 15:39:47.981, 2023-11-21 15:43:57.620, 2023-11-21 15:44:37.982]</td></tr><tr><td>&quot;u_212584&quot;</td><td>&quot;s_16918781&quot;</td><td>[&quot;v_1572055&quot;, &quot;v_1572055&quot;, … &quot;v_1329494&quot;]</td><td>[2, 3, … 1]</td><td>[2023-11-16 08:41:47.031, 2023-11-16 08:45:21.403, … 2023-11-16 09:05:27.379]</td></tr><tr><td>&quot;u_425177&quot;</td><td>&quot;s_17505104&quot;</td><td>[&quot;v_1375331&quot;, &quot;v_1922852&quot;]</td><td>[2, 2]</td><td>[2023-11-17 12:42:18.513, 2023-11-17 12:43:52.744]</td></tr><tr><td>&quot;u_700997&quot;</td><td>&quot;s_15528830&quot;</td><td>[&quot;v_2152997&quot;, &quot;v_2152997&quot;, &quot;v_1217630&quot;]</td><td>[2, 1, 2]</td><td>[2023-11-16 17:22:53.530, 2023-11-16 17:23:19.885, 2023-11-16 17:23:33.472]</td></tr><tr><td>&quot;u_687201&quot;</td><td>&quot;s_11187326&quot;</td><td>[&quot;v_2602959&quot;, &quot;v_549337&quot;, … &quot;v_212060&quot;]</td><td>[2, 2, … 1]</td><td>[2023-11-21 14:41:30.546, 2023-11-21 15:00:25.506, … 2023-11-21 15:24:56.271]</td></tr><tr><td>&quot;u_573219&quot;</td><td>&quot;s_27394215&quot;</td><td>[&quot;v_1836184&quot;, &quot;v_2733253&quot;, … &quot;v_2297339&quot;]</td><td>[1, 2, … 2]</td><td>[2023-11-21 18:48:43.424, 2023-11-21 18:49:12.552, … 2023-11-21 19:48:55.704]</td></tr><tr><td>&quot;u_1082782&quot;</td><td>&quot;s_30341164&quot;</td><td>[&quot;v_1026036&quot;, &quot;v_1026036&quot;, … &quot;v_206700&quot;]</td><td>[2, 1, … 2]</td><td>[2023-11-17 02:54:19.561, 2023-11-17 02:54:50.486, … 2023-11-17 03:21:22.008]</td></tr><tr><td>&quot;u_81444&quot;</td><td>&quot;s_1909964&quot;</td><td>[&quot;v_2497384&quot;, &quot;v_1480870&quot;, … &quot;v_1500697&quot;]</td><td>[2, 2, … 1]</td><td>[2023-11-15 12:38:34.579, 2023-11-15 13:03:41.360, … 2023-11-15 13:05:15.916]</td></tr><tr><td>&quot;u_858357&quot;</td><td>&quot;s_12463318&quot;</td><td>[&quot;v_1085881&quot;, &quot;v_522338&quot;, … &quot;v_1776027&quot;]</td><td>[2, 2, … 2]</td><td>[2023-11-18 11:58:33.953, 2023-11-18 12:01:09.562, … 2023-11-18 14:39:24.255]</td></tr><tr><td>&quot;u_136080&quot;</td><td>&quot;s_25066108&quot;</td><td>[&quot;v_1167642&quot;, &quot;v_613829&quot;, … &quot;v_2061106&quot;]</td><td>[2, 2, … 2]</td><td>[2023-11-21 05:09:14.167, 2023-11-21 05:10:02.996, … 2023-11-21 05:17:03.842]</td></tr><tr><td>&quot;u_361893&quot;</td><td>&quot;s_12897073&quot;</td><td>[&quot;v_2188274&quot;, &quot;v_941470&quot;, … &quot;v_450701&quot;]</td><td>[2, 2, … 2]</td><td>[2023-11-21 16:03:36.003, 2023-11-21 16:04:07.515, … 2023-11-21 16:24:26.163]</td></tr><tr><td>&hellip;</td><td>&hellip;</td><td>&hellip;</td><td>&hellip;</td><td>&hellip;</td></tr><tr><td>&quot;u_27420&quot;</td><td>&quot;s_15647766&quot;</td><td>[&quot;v_779522&quot;, &quot;v_32918&quot;, … &quot;v_2382404&quot;]</td><td>[2, 2, … 2]</td><td>[2023-11-15 09:46:24.682, 2023-11-15 09:46:52.048, … 2023-11-15 09:55:07.684]</td></tr><tr><td>&quot;u_101925&quot;</td><td>&quot;s_9312767&quot;</td><td>[&quot;v_899404&quot;, &quot;v_2009859&quot;]</td><td>[2, 2]</td><td>[2023-11-17 10:54:18.637, 2023-11-17 12:19:55.239]</td></tr><tr><td>&quot;u_105702&quot;</td><td>&quot;s_27857907&quot;</td><td>[&quot;v_473549&quot;, &quot;v_1137408&quot;]</td><td>[2, 2]</td><td>[2023-11-18 09:25:22.487, 2023-11-18 09:27:10.980]</td></tr><tr><td>&quot;u_485573&quot;</td><td>&quot;s_19643559&quot;</td><td>[&quot;v_1032129&quot;, &quot;v_1340903&quot;, &quot;v_1032129&quot;]</td><td>[2, 2, 2]</td><td>[2023-11-21 14:44:58.274, 2023-11-21 15:11:34.645, 2023-11-21 15:11:56.029]</td></tr><tr><td>&quot;u_737688&quot;</td><td>&quot;s_5225203&quot;</td><td>[&quot;v_616873&quot;, &quot;v_2610004&quot;]</td><td>[2, 2]</td><td>[2023-11-20 12:37:56.056, 2023-11-20 12:41:23.243]</td></tr><tr><td>&quot;u_366097&quot;</td><td>&quot;s_20110640&quot;</td><td>[&quot;v_307100&quot;, &quot;v_2040988&quot;, … &quot;v_2586611&quot;]</td><td>[2, 2, … 1]</td><td>[2023-11-17 15:31:42.944, 2023-11-17 15:32:01.187, … 2023-11-17 15:36:51.248]</td></tr><tr><td>&quot;u_995221&quot;</td><td>&quot;s_21000652&quot;</td><td>[&quot;v_528661&quot;, &quot;v_528661&quot;, … &quot;v_199518&quot;]</td><td>[2, 1, … 2]</td><td>[2023-11-15 14:00:32.515, 2023-11-15 14:01:08.165, … 2023-11-15 14:04:31.812]</td></tr><tr><td>&quot;u_499368&quot;</td><td>&quot;s_19158589&quot;</td><td>[&quot;v_1716634&quot;, &quot;v_2232327&quot;, … &quot;v_1993650&quot;]</td><td>[2, 2, … 2]</td><td>[2023-11-18 03:15:15.530, 2023-11-18 03:19:20.971, … 2023-11-18 03:35:12.020]</td></tr><tr><td>&quot;u_1084868&quot;</td><td>&quot;s_24756162&quot;</td><td>[&quot;v_395706&quot;, &quot;v_2405231&quot;]</td><td>[2, 2]</td><td>[2023-11-15 18:06:16.550, 2023-11-15 18:07:18.447]</td></tr><tr><td>&quot;u_1138032&quot;</td><td>&quot;s_25291467&quot;</td><td>[&quot;v_1213925&quot;, &quot;v_1213925&quot;, … &quot;v_2359832&quot;]</td><td>[2, 1, … 1]</td><td>[2023-11-19 23:19:44.092, 2023-11-19 23:27:22.739, … 2023-11-19 23:27:51.152]</td></tr><tr><td>&quot;u_608102&quot;</td><td>&quot;s_18813020&quot;</td><td>[&quot;v_933773&quot;, &quot;v_933773&quot;, … &quot;v_2667466&quot;]</td><td>[3, 2, … 2]</td><td>[2023-11-16 15:40:09.408, 2023-11-16 15:40:09.448, … 2023-11-16 16:18:05.927]</td></tr><tr><td>&quot;u_847738&quot;</td><td>&quot;s_7662913&quot;</td><td>[&quot;v_875568&quot;, &quot;v_2677852&quot;, … &quot;v_1462102&quot;]</td><td>[2, 2, … 2]</td><td>[2023-11-17 13:34:03.386, 2023-11-17 13:34:57.675, … 2023-11-17 14:27:46.817]</td></tr></tbody></table></div>"
     },
     "execution_count": 11,
     "metadata": {},
     "output_type": "execute_result"
    }
   ],
   "source": [
    "test"
   ],
   "metadata": {
    "collapsed": false,
    "ExecuteTime": {
     "end_time": "2024-01-27T21:14:36.639893Z",
     "start_time": "2024-01-27T21:14:36.628651Z"
    }
   }
  },
  {
   "cell_type": "code",
   "execution_count": null,
   "outputs": [],
   "source": [
    "test = test.with_columns(pl.lit(predictions).alias('predictions'))"
   ],
   "metadata": {
    "collapsed": false,
    "ExecuteTime": {
     "start_time": "2024-01-27T21:15:00.879909Z"
    }
   }
  },
  {
   "cell_type": "code",
   "execution_count": 1,
   "outputs": [
    {
     "name": "stdout",
     "output_type": "stream",
     "text": [
      "\n"
     ]
    }
   ],
   "source": [
    "print()"
   ],
   "metadata": {
    "collapsed": false,
    "ExecuteTime": {
     "end_time": "2024-01-27T21:31:19.929442Z",
     "start_time": "2024-01-27T21:31:19.915976Z"
    }
   }
  },
  {
   "cell_type": "code",
   "execution_count": null,
   "outputs": [],
   "source": [
    "test.with_columns(pl.lit(predictions).alias('predictions'))"
   ],
   "metadata": {
    "collapsed": false,
    "ExecuteTime": {
     "start_time": "2024-01-27T21:02:51.434170Z"
    }
   }
  },
  {
   "cell_type": "code",
   "execution_count": 23,
   "outputs": [
    {
     "name": "stderr",
     "output_type": "stream",
     "text": [
      "/tmp/ipykernel_583187/2589823886.py:2: DeprecationWarning: Behavior for `lit` will change for sequence inputs. The result will change to be a literal of type List. To retain the old behavior, pass a Series instead, e.g. `Series(sequence)`.\n",
      "  test = test.with_columns(pl.lit(predictions).alias('predictions'))\n"
     ]
    }
   ],
   "source": [
    "test.select(['user_id', 'session_id', 'predictions']).write_parquet('submission.pq')"
   ],
   "metadata": {
    "collapsed": false
   }
  },
  {
   "cell_type": "code",
   "execution_count": 24,
   "metadata": {},
   "outputs": [
    {
     "data": {
      "text/html": [
       "<div><style>\n",
       ".dataframe > thead > tr,\n",
       ".dataframe > tbody > tr {\n",
       "  text-align: right;\n",
       "  white-space: pre-wrap;\n",
       "}\n",
       "</style>\n",
       "<small>shape: (83_189, 6)</small><table border=\"1\" class=\"dataframe\"><thead><tr><th>user_id</th><th>session_id</th><th>vacancy_id</th><th>action_type</th><th>action_dt</th><th>predictions</th></tr><tr><td>str</td><td>str</td><td>list[str]</td><td>list[i64]</td><td>list[datetime[ns]]</td><td>list[str]</td></tr></thead><tbody><tr><td>&quot;u_482520&quot;</td><td>&quot;s_25018731&quot;</td><td>[&quot;v_2597196&quot;, &quot;v_1223061&quot;, &quot;v_1223061&quot;]</td><td>[2, 2, 1]</td><td>[2023-11-19 12:03:13.089, 2023-11-19 12:03:30.396, 2023-11-19 12:05:03.473]</td><td>[&quot;v_2597196&quot;, &quot;v_1223061&quot;]</td></tr><tr><td>&quot;u_582132&quot;</td><td>&quot;s_481216&quot;</td><td>[&quot;v_470400&quot;, &quot;v_470400&quot;, &quot;v_1530783&quot;]</td><td>[2, 1, 2]</td><td>[2023-11-21 15:39:47.981, 2023-11-21 15:43:57.620, 2023-11-21 15:44:37.982]</td><td>[&quot;v_470400&quot;, &quot;v_1530783&quot;]</td></tr><tr><td>&quot;u_212584&quot;</td><td>&quot;s_16918781&quot;</td><td>[&quot;v_1572055&quot;, &quot;v_1572055&quot;, … &quot;v_1329494&quot;]</td><td>[2, 3, … 1]</td><td>[2023-11-16 08:41:47.031, 2023-11-16 08:45:21.403, … 2023-11-16 09:05:27.379]</td><td>[&quot;v_1592343&quot;, &quot;v_1329494&quot;]</td></tr><tr><td>&quot;u_425177&quot;</td><td>&quot;s_17505104&quot;</td><td>[&quot;v_1375331&quot;, &quot;v_1922852&quot;]</td><td>[2, 2]</td><td>[2023-11-17 12:42:18.513, 2023-11-17 12:43:52.744]</td><td>[&quot;v_1375331&quot;, &quot;v_1922852&quot;]</td></tr><tr><td>&quot;u_700997&quot;</td><td>&quot;s_15528830&quot;</td><td>[&quot;v_2152997&quot;, &quot;v_2152997&quot;, &quot;v_1217630&quot;]</td><td>[2, 1, 2]</td><td>[2023-11-16 17:22:53.530, 2023-11-16 17:23:19.885, 2023-11-16 17:23:33.472]</td><td>[&quot;v_2152997&quot;, &quot;v_1217630&quot;]</td></tr><tr><td>&quot;u_687201&quot;</td><td>&quot;s_11187326&quot;</td><td>[&quot;v_2602959&quot;, &quot;v_549337&quot;, … &quot;v_212060&quot;]</td><td>[2, 2, … 1]</td><td>[2023-11-21 14:41:30.546, 2023-11-21 15:00:25.506, … 2023-11-21 15:24:56.271]</td><td>[&quot;v_698513&quot;, &quot;v_212060&quot;]</td></tr><tr><td>&quot;u_573219&quot;</td><td>&quot;s_27394215&quot;</td><td>[&quot;v_1836184&quot;, &quot;v_2733253&quot;, … &quot;v_2297339&quot;]</td><td>[1, 2, … 2]</td><td>[2023-11-21 18:48:43.424, 2023-11-21 18:49:12.552, … 2023-11-21 19:48:55.704]</td><td>[&quot;v_1828011&quot;, &quot;v_2297339&quot;]</td></tr><tr><td>&quot;u_1082782&quot;</td><td>&quot;s_30341164&quot;</td><td>[&quot;v_1026036&quot;, &quot;v_1026036&quot;, … &quot;v_206700&quot;]</td><td>[2, 1, … 2]</td><td>[2023-11-17 02:54:19.561, 2023-11-17 02:54:50.486, … 2023-11-17 03:21:22.008]</td><td>[&quot;v_206700&quot;, &quot;v_528671&quot;]</td></tr><tr><td>&quot;u_81444&quot;</td><td>&quot;s_1909964&quot;</td><td>[&quot;v_2497384&quot;, &quot;v_1480870&quot;, … &quot;v_1500697&quot;]</td><td>[2, 2, … 1]</td><td>[2023-11-15 12:38:34.579, 2023-11-15 13:03:41.360, … 2023-11-15 13:05:15.916]</td><td>[&quot;v_36093&quot;, &quot;v_1500697&quot;]</td></tr><tr><td>&quot;u_858357&quot;</td><td>&quot;s_12463318&quot;</td><td>[&quot;v_1085881&quot;, &quot;v_522338&quot;, … &quot;v_1776027&quot;]</td><td>[2, 2, … 2]</td><td>[2023-11-18 11:58:33.953, 2023-11-18 12:01:09.562, … 2023-11-18 14:39:24.255]</td><td>[&quot;v_2170682&quot;, &quot;v_93799&quot;]</td></tr><tr><td>&quot;u_136080&quot;</td><td>&quot;s_25066108&quot;</td><td>[&quot;v_1167642&quot;, &quot;v_613829&quot;, … &quot;v_2061106&quot;]</td><td>[2, 2, … 2]</td><td>[2023-11-21 05:09:14.167, 2023-11-21 05:10:02.996, … 2023-11-21 05:17:03.842]</td><td>[&quot;v_202425&quot;, &quot;v_2061106&quot;]</td></tr><tr><td>&quot;u_361893&quot;</td><td>&quot;s_12897073&quot;</td><td>[&quot;v_2188274&quot;, &quot;v_941470&quot;, … &quot;v_450701&quot;]</td><td>[2, 2, … 2]</td><td>[2023-11-21 16:03:36.003, 2023-11-21 16:04:07.515, … 2023-11-21 16:24:26.163]</td><td>[&quot;v_2599835&quot;, &quot;v_450701&quot;]</td></tr><tr><td>&hellip;</td><td>&hellip;</td><td>&hellip;</td><td>&hellip;</td><td>&hellip;</td><td>&hellip;</td></tr><tr><td>&quot;u_27420&quot;</td><td>&quot;s_15647766&quot;</td><td>[&quot;v_779522&quot;, &quot;v_32918&quot;, … &quot;v_2382404&quot;]</td><td>[2, 2, … 2]</td><td>[2023-11-15 09:46:24.682, 2023-11-15 09:46:52.048, … 2023-11-15 09:55:07.684]</td><td>[&quot;v_2206376&quot;, &quot;v_2382404&quot;]</td></tr><tr><td>&quot;u_101925&quot;</td><td>&quot;s_9312767&quot;</td><td>[&quot;v_899404&quot;, &quot;v_2009859&quot;]</td><td>[2, 2]</td><td>[2023-11-17 10:54:18.637, 2023-11-17 12:19:55.239]</td><td>[&quot;v_899404&quot;, &quot;v_2009859&quot;]</td></tr><tr><td>&quot;u_105702&quot;</td><td>&quot;s_27857907&quot;</td><td>[&quot;v_473549&quot;, &quot;v_1137408&quot;]</td><td>[2, 2]</td><td>[2023-11-18 09:25:22.487, 2023-11-18 09:27:10.980]</td><td>[&quot;v_473549&quot;, &quot;v_1137408&quot;]</td></tr><tr><td>&quot;u_485573&quot;</td><td>&quot;s_19643559&quot;</td><td>[&quot;v_1032129&quot;, &quot;v_1340903&quot;, &quot;v_1032129&quot;]</td><td>[2, 2, 2]</td><td>[2023-11-21 14:44:58.274, 2023-11-21 15:11:34.645, 2023-11-21 15:11:56.029]</td><td>[&quot;v_1032129&quot;, &quot;v_1340903&quot;]</td></tr><tr><td>&quot;u_737688&quot;</td><td>&quot;s_5225203&quot;</td><td>[&quot;v_616873&quot;, &quot;v_2610004&quot;]</td><td>[2, 2]</td><td>[2023-11-20 12:37:56.056, 2023-11-20 12:41:23.243]</td><td>[&quot;v_616873&quot;, &quot;v_2610004&quot;]</td></tr><tr><td>&quot;u_366097&quot;</td><td>&quot;s_20110640&quot;</td><td>[&quot;v_307100&quot;, &quot;v_2040988&quot;, … &quot;v_2586611&quot;]</td><td>[2, 2, … 1]</td><td>[2023-11-17 15:31:42.944, 2023-11-17 15:32:01.187, … 2023-11-17 15:36:51.248]</td><td>[&quot;v_1603336&quot;, &quot;v_2586611&quot;]</td></tr><tr><td>&quot;u_995221&quot;</td><td>&quot;s_21000652&quot;</td><td>[&quot;v_528661&quot;, &quot;v_528661&quot;, … &quot;v_199518&quot;]</td><td>[2, 1, … 2]</td><td>[2023-11-15 14:00:32.515, 2023-11-15 14:01:08.165, … 2023-11-15 14:04:31.812]</td><td>[&quot;v_99630&quot;, &quot;v_199518&quot;]</td></tr><tr><td>&quot;u_499368&quot;</td><td>&quot;s_19158589&quot;</td><td>[&quot;v_1716634&quot;, &quot;v_2232327&quot;, … &quot;v_1993650&quot;]</td><td>[2, 2, … 2]</td><td>[2023-11-18 03:15:15.530, 2023-11-18 03:19:20.971, … 2023-11-18 03:35:12.020]</td><td>[&quot;v_99981&quot;, &quot;v_1993650&quot;]</td></tr><tr><td>&quot;u_1084868&quot;</td><td>&quot;s_24756162&quot;</td><td>[&quot;v_395706&quot;, &quot;v_2405231&quot;]</td><td>[2, 2]</td><td>[2023-11-15 18:06:16.550, 2023-11-15 18:07:18.447]</td><td>[&quot;v_395706&quot;, &quot;v_2405231&quot;]</td></tr><tr><td>&quot;u_1138032&quot;</td><td>&quot;s_25291467&quot;</td><td>[&quot;v_1213925&quot;, &quot;v_1213925&quot;, … &quot;v_2359832&quot;]</td><td>[2, 1, … 1]</td><td>[2023-11-19 23:19:44.092, 2023-11-19 23:27:22.739, … 2023-11-19 23:27:51.152]</td><td>[&quot;v_1213925&quot;, &quot;v_2359832&quot;]</td></tr><tr><td>&quot;u_608102&quot;</td><td>&quot;s_18813020&quot;</td><td>[&quot;v_933773&quot;, &quot;v_933773&quot;, … &quot;v_2667466&quot;]</td><td>[3, 2, … 2]</td><td>[2023-11-16 15:40:09.408, 2023-11-16 15:40:09.448, … 2023-11-16 16:18:05.927]</td><td>[&quot;v_1508520&quot;, &quot;v_2667466&quot;]</td></tr><tr><td>&quot;u_847738&quot;</td><td>&quot;s_7662913&quot;</td><td>[&quot;v_875568&quot;, &quot;v_2677852&quot;, … &quot;v_1462102&quot;]</td><td>[2, 2, … 2]</td><td>[2023-11-17 13:34:03.386, 2023-11-17 13:34:57.675, … 2023-11-17 14:27:46.817]</td><td>[&quot;v_1764585&quot;, &quot;v_1462102&quot;]</td></tr></tbody></table></div>"
      ],
      "text/plain": [
       "shape: (83_189, 6)\n",
       "┌───────────┬────────────┬────────────────┬─────────────┬───────────────────────┬───────────────┐\n",
       "│ user_id   ┆ session_id ┆ vacancy_id     ┆ action_type ┆ action_dt             ┆ predictions   │\n",
       "│ ---       ┆ ---        ┆ ---            ┆ ---         ┆ ---                   ┆ ---           │\n",
       "│ str       ┆ str        ┆ list[str]      ┆ list[i64]   ┆ list[datetime[ns]]    ┆ list[str]     │\n",
       "╞═══════════╪════════════╪════════════════╪═════════════╪═══════════════════════╪═══════════════╡\n",
       "│ u_482520  ┆ s_25018731 ┆ [\"v_2597196\",  ┆ [2, 2, 1]   ┆ [2023-11-19           ┆ [\"v_2597196\", │\n",
       "│           ┆            ┆ \"v_1223061\",   ┆             ┆ 12:03:13.089, 2023-1… ┆ \"v_1223061\"]  │\n",
       "│           ┆            ┆ \"v_12…         ┆             ┆                       ┆               │\n",
       "│ u_582132  ┆ s_481216   ┆ [\"v_470400\",   ┆ [2, 1, 2]   ┆ [2023-11-21           ┆ [\"v_470400\",  │\n",
       "│           ┆            ┆ \"v_470400\",    ┆             ┆ 15:39:47.981, 2023-1… ┆ \"v_1530783\"]  │\n",
       "│           ┆            ┆ \"v_1530…       ┆             ┆                       ┆               │\n",
       "│ u_212584  ┆ s_16918781 ┆ [\"v_1572055\",  ┆ [2, 3, … 1] ┆ [2023-11-16           ┆ [\"v_1592343\", │\n",
       "│           ┆            ┆ \"v_1572055\", … ┆             ┆ 08:41:47.031, 2023-1… ┆ \"v_1329494\"]  │\n",
       "│           ┆            ┆ \"v_…           ┆             ┆                       ┆               │\n",
       "│ u_425177  ┆ s_17505104 ┆ [\"v_1375331\",  ┆ [2, 2]      ┆ [2023-11-17           ┆ [\"v_1375331\", │\n",
       "│           ┆            ┆ \"v_1922852\"]   ┆             ┆ 12:42:18.513, 2023-1… ┆ \"v_1922852\"]  │\n",
       "│ …         ┆ …          ┆ …              ┆ …           ┆ …                     ┆ …             │\n",
       "│ u_1084868 ┆ s_24756162 ┆ [\"v_395706\",   ┆ [2, 2]      ┆ [2023-11-15           ┆ [\"v_395706\",  │\n",
       "│           ┆            ┆ \"v_2405231\"]   ┆             ┆ 18:06:16.550, 2023-1… ┆ \"v_2405231\"]  │\n",
       "│ u_1138032 ┆ s_25291467 ┆ [\"v_1213925\",  ┆ [2, 1, … 1] ┆ [2023-11-19           ┆ [\"v_1213925\", │\n",
       "│           ┆            ┆ \"v_1213925\", … ┆             ┆ 23:19:44.092, 2023-1… ┆ \"v_2359832\"]  │\n",
       "│           ┆            ┆ \"v_…           ┆             ┆                       ┆               │\n",
       "│ u_608102  ┆ s_18813020 ┆ [\"v_933773\",   ┆ [3, 2, … 2] ┆ [2023-11-16           ┆ [\"v_1508520\", │\n",
       "│           ┆            ┆ \"v_933773\", …  ┆             ┆ 15:40:09.408, 2023-1… ┆ \"v_2667466\"]  │\n",
       "│           ┆            ┆ \"v_26…         ┆             ┆                       ┆               │\n",
       "│ u_847738  ┆ s_7662913  ┆ [\"v_875568\",   ┆ [2, 2, … 2] ┆ [2023-11-17           ┆ [\"v_1764585\", │\n",
       "│           ┆            ┆ \"v_2677852\", … ┆             ┆ 13:34:03.386, 2023-1… ┆ \"v_1462102\"]  │\n",
       "│           ┆            ┆ \"v_1…          ┆             ┆                       ┆               │\n",
       "└───────────┴────────────┴────────────────┴─────────────┴───────────────────────┴───────────────┘"
      ]
     },
     "execution_count": 24,
     "metadata": {},
     "output_type": "execute_result"
    }
   ],
   "source": [
    "test"
   ]
  },
  {
   "cell_type": "markdown",
   "metadata": {},
   "source": [
    "# Simple ALS"
   ]
  },
  {
   "cell_type": "code",
   "execution_count": 9,
   "outputs": [
    {
     "data": {
      "text/plain": "shape: (5, 5)\n┌───────────┬────────────┬─────────────────────────────┬─────────────┬─────────────────────────────┐\n│ user_id   ┆ session_id ┆ vacancy_id                  ┆ action_type ┆ action_dt                   │\n│ ---       ┆ ---        ┆ ---                         ┆ ---         ┆ ---                         │\n│ str       ┆ str        ┆ list[str]                   ┆ list[i64]   ┆ list[datetime[ns]]          │\n╞═══════════╪════════════╪═════════════════════════════╪═════════════╪═════════════════════════════╡\n│ u_332060  ┆ s_28301374 ┆ [\"v_2571684\", \"v_488179\", … ┆ [2, 2, … 2] ┆ [2023-11-01 00:40:58.105,   │\n│           ┆            ┆ \"v_2…                       ┆             ┆ 2023-1…                     │\n│ u_1057881 ┆ s_33868982 ┆ [\"v_665861\"]                ┆ [2]         ┆ [2023-11-01 00:23:51.452]   │\n│ u_1036784 ┆ s_32474802 ┆ [\"v_2594840\"]               ┆ [2]         ┆ [2023-11-01 00:52:34.023]   │\n│ u_786220  ┆ s_14060785 ┆ [\"v_1473781\", \"v_1622905\",  ┆ [1, 2, … 2] ┆ [2023-11-01 00:58:20.793,   │\n│           ┆            ┆ … \"v_…                      ┆             ┆ 2023-1…                     │\n│ u_639152  ┆ s_23205986 ┆ [\"v_695738\", \"v_22433\", …   ┆ [2, 1, … 2] ┆ [2023-11-01 01:14:20.828,   │\n│           ┆            ┆ \"v_107…                     ┆             ┆ 2023-1…                     │\n└───────────┴────────────┴─────────────────────────────┴─────────────┴─────────────────────────────┘",
      "text/html": "<div><style>\n.dataframe > thead > tr,\n.dataframe > tbody > tr {\n  text-align: right;\n  white-space: pre-wrap;\n}\n</style>\n<small>shape: (5, 5)</small><table border=\"1\" class=\"dataframe\"><thead><tr><th>user_id</th><th>session_id</th><th>vacancy_id</th><th>action_type</th><th>action_dt</th></tr><tr><td>str</td><td>str</td><td>list[str]</td><td>list[i64]</td><td>list[datetime[ns]]</td></tr></thead><tbody><tr><td>&quot;u_332060&quot;</td><td>&quot;s_28301374&quot;</td><td>[&quot;v_2571684&quot;, &quot;v_488179&quot;, … &quot;v_2633899&quot;]</td><td>[2, 2, … 2]</td><td>[2023-11-01 00:40:58.105, 2023-11-01 00:58:13.091, … 2023-11-01 01:35:54.456]</td></tr><tr><td>&quot;u_1057881&quot;</td><td>&quot;s_33868982&quot;</td><td>[&quot;v_665861&quot;]</td><td>[2]</td><td>[2023-11-01 00:23:51.452]</td></tr><tr><td>&quot;u_1036784&quot;</td><td>&quot;s_32474802&quot;</td><td>[&quot;v_2594840&quot;]</td><td>[2]</td><td>[2023-11-01 00:52:34.023]</td></tr><tr><td>&quot;u_786220&quot;</td><td>&quot;s_14060785&quot;</td><td>[&quot;v_1473781&quot;, &quot;v_1622905&quot;, … &quot;v_2394151&quot;]</td><td>[1, 2, … 2]</td><td>[2023-11-01 00:58:20.793, 2023-11-01 01:17:04.774, … 2023-11-01 01:17:40.149]</td></tr><tr><td>&quot;u_639152&quot;</td><td>&quot;s_23205986&quot;</td><td>[&quot;v_695738&quot;, &quot;v_22433&quot;, … &quot;v_1078110&quot;]</td><td>[2, 1, … 2]</td><td>[2023-11-01 01:14:20.828, 2023-11-01 00:54:08.636, … 2023-11-01 01:00:53.660]</td></tr></tbody></table></div>"
     },
     "execution_count": 9,
     "metadata": {},
     "output_type": "execute_result"
    }
   ],
   "source": [
    "train.head()"
   ],
   "metadata": {
    "collapsed": false,
    "ExecuteTime": {
     "end_time": "2024-01-31T12:29:28.929466Z",
     "start_time": "2024-01-31T12:29:28.888172Z"
    }
   }
  },
  {
   "cell_type": "code",
   "execution_count": 8,
   "metadata": {
    "ExecuteTime": {
     "end_time": "2024-01-31T12:29:27.907554Z",
     "start_time": "2024-01-31T12:29:20.758445Z"
    }
   },
   "outputs": [],
   "source": [
    "# Берем уникальных пользователей из train\n",
    "unique_users = train['user_id'].unique().to_list()\n",
    "# Берем уникальные вакансии\n",
    "unique_vacancies = train['vacancy_id'].explode().unique().to_list()"
   ]
  },
  {
   "cell_type": "code",
   "execution_count": 10,
   "outputs": [],
   "source": [
    "# Создаем словарь {user_id:idx} где user_id идишник пользователя , а idx его порядковый индекс\n",
    "user2idx = {user_id: idx for idx, user_id in enumerate(unique_users)}\n",
    "# Создаем словарь {vac_id:idx} где vac_id идишник вакансии , а idx ее порядковый индекс\n",
    "vac2idx = {vac_id: idx for idx, vac_id in enumerate(unique_vacancies)}\n",
    "# Обратный словарь {idx:vac_id}, где ключ idx\n",
    "idx2vac = {idx: vac_id for vac_id, idx in vac2idx.items()}\n",
    "# Создаем словарь с весами по кодам действий\n",
    "action_weights = {\n",
    "    1: 4.0, # отклик\n",
    "    2: 1.0, # просмотр\n",
    "    3: 2.0 # добавление в избранное\n",
    "}\n"
   ],
   "metadata": {
    "collapsed": false,
    "ExecuteTime": {
     "end_time": "2024-01-31T12:29:41.267876Z",
     "start_time": "2024-01-31T12:29:40.499514Z"
    }
   }
  },
  {
   "cell_type": "code",
   "execution_count": 11,
   "outputs": [],
   "source": [
    "# Создаем таблицу pairs с полями user_id, vacancy_id, action_type\n",
    "pairs = train.select(['user_id', 'vacancy_id', 'action_type']).explode(('vacancy_id', 'action_type'))"
   ],
   "metadata": {
    "collapsed": false,
    "ExecuteTime": {
     "end_time": "2024-01-31T12:30:10.420897Z",
     "start_time": "2024-01-31T12:30:09.200014Z"
    }
   }
  },
  {
   "cell_type": "code",
   "execution_count": 15,
   "outputs": [
    {
     "name": "stderr",
     "output_type": "stream",
     "text": [
      "/var/folders/jd/scg9w9y14jngl6m39nfy27k40000gn/T/ipykernel_48030/2855629468.py:1: DeprecationWarning: `map_dict` is deprecated. It has been renamed to `replace`. The default behavior has changed to keep any values not present in the mapping unchanged. Pass `default=None` to keep existing behavior.\n",
      "  users = pairs['user_id'].map_dict(user2idx, default=None).to_numpy()\n"
     ]
    }
   ],
   "source": [
    "# Создаем массив users в котором, подтягиваются порядковые индексы по user_id из словаря user2idx\n",
    "users = pairs['user_id'].map_dict(user2idx, default=None).to_numpy()"
   ],
   "metadata": {
    "collapsed": false,
    "ExecuteTime": {
     "end_time": "2024-01-31T12:33:09.660989Z",
     "start_time": "2024-01-31T12:33:08.793713Z"
    }
   }
  },
  {
   "cell_type": "code",
   "execution_count": 17,
   "outputs": [
    {
     "name": "stderr",
     "output_type": "stream",
     "text": [
      "/var/folders/jd/scg9w9y14jngl6m39nfy27k40000gn/T/ipykernel_48030/3587250435.py:2: DeprecationWarning: `map_dict` is deprecated. It has been renamed to `replace`. The default behavior has changed to keep any values not present in the mapping unchanged. Pass `default=None` to keep existing behavior.\n",
      "  vacancies = pairs['vacancy_id'].map_dict(vac2idx).to_numpy()\n"
     ]
    }
   ],
   "source": [
    "# Создаем массив vacancies в котором, подтягиваются порядковые индексы по vac_id из словаря vac2idx\n",
    "vacancies = pairs['vacancy_id'].map_dict(vac2idx).to_numpy()"
   ],
   "metadata": {
    "collapsed": false,
    "ExecuteTime": {
     "end_time": "2024-01-31T12:36:40.695400Z",
     "start_time": "2024-01-31T12:36:36.682172Z"
    }
   }
  },
  {
   "cell_type": "code",
   "execution_count": 18,
   "outputs": [
    {
     "name": "stderr",
     "output_type": "stream",
     "text": [
      "/var/folders/jd/scg9w9y14jngl6m39nfy27k40000gn/T/ipykernel_48030/2422162151.py:2: DeprecationWarning: `map_dict` is deprecated. It has been renamed to `replace`. The default behavior has changed to keep any values not present in the mapping unchanged. Pass `default=None` to keep existing behavior.\n",
      "  preferences = pairs['action_type'].map_dict(action_weights).to_numpy()\n"
     ]
    }
   ],
   "source": [
    "# Создаем массив preferences в котором, подтягиваются новые веса по коду действия из словаря action_weights\n",
    "preferences = pairs['action_type'].map_dict(action_weights).to_numpy()"
   ],
   "metadata": {
    "collapsed": false,
    "ExecuteTime": {
     "end_time": "2024-01-31T12:37:19.980756Z",
     "start_time": "2024-01-31T12:37:19.422327Z"
    }
   }
  },
  {
   "cell_type": "code",
   "execution_count": 20,
   "metadata": {
    "ExecuteTime": {
     "end_time": "2024-01-31T12:37:37.866849Z",
     "start_time": "2024-01-31T12:37:37.860232Z"
    }
   },
   "outputs": [],
   "source": []
  },
  {
   "cell_type": "code",
   "execution_count": 21,
   "metadata": {
    "ExecuteTime": {
     "end_time": "2024-01-31T12:37:57.216251Z",
     "start_time": "2024-01-31T12:37:55.672651Z"
    }
   },
   "outputs": [],
   "source": [
    "#Создаем sparse матрицу user-vacancy\n",
    "uv_mat = csr_matrix((preferences, (users, vacancies)))"
   ]
  },
  {
   "cell_type": "code",
   "execution_count": 23,
   "outputs": [],
   "source": [
    "# uv_mat"
   ],
   "metadata": {
    "collapsed": false,
    "ExecuteTime": {
     "end_time": "2024-01-31T12:39:20.850542Z",
     "start_time": "2024-01-31T12:39:20.843872Z"
    }
   }
  },
  {
   "cell_type": "code",
   "execution_count": 24,
   "outputs": [
    {
     "name": "stderr",
     "output_type": "stream",
     "text": [
      "/Users/alex/Developer/RecsysHH/venv/lib/python3.10/site-packages/implicit/cpu/als.py:95: RuntimeWarning: OpenBLAS is configured to use 8 threads. It is highly recommended to disable its internal threadpool by setting the environment variable 'OPENBLAS_NUM_THREADS=1' or by calling 'threadpoolctl.threadpool_limits(1, \"blas\")'. Having OpenBLAS use a threadpool can lead to severe performance issues here.\n",
      "  check_blas_config()\n"
     ]
    },
    {
     "data": {
      "text/plain": "  0%|          | 0/20 [00:00<?, ?it/s]",
      "application/vnd.jupyter.widget-view+json": {
       "version_major": 2,
       "version_minor": 0,
       "model_id": "4846a43e60c149f9ac943e059540ced5"
      }
     },
     "metadata": {},
     "output_type": "display_data"
    }
   ],
   "source": [
    "#Запускаем ALS\n",
    "als_model = implicit.als.AlternatingLeastSquares(\n",
    "    factors=150,\n",
    "    random_state=RANDOM_STATE,\n",
    "    iterations=20,\n",
    "    calculate_training_loss=True,\n",
    "    regularization=0.001\n",
    ")\n",
    "als_model.fit(uv_mat)"
   ],
   "metadata": {
    "collapsed": false,
    "ExecuteTime": {
     "end_time": "2024-01-31T13:20:23.664529Z",
     "start_time": "2024-01-31T12:39:37.446859Z"
    }
   }
  },
  {
   "cell_type": "code",
   "execution_count": 26,
   "metadata": {
    "ExecuteTime": {
     "end_time": "2024-01-31T13:37:10.246508Z",
     "start_time": "2024-01-31T13:37:10.240853Z"
    }
   },
   "outputs": [
    {
     "data": {
      "text/plain": "((882409, 150), (1458353, 150))"
     },
     "execution_count": 26,
     "metadata": {},
     "output_type": "execute_result"
    }
   ],
   "source": [
    "# Матрицы с фичами пользователя и вакансий\n",
    "als_model.user_factors.shape, als_model.item_factors.shape"
   ]
  },
  {
   "cell_type": "code",
   "execution_count": 33,
   "outputs": [],
   "source": [],
   "metadata": {
    "collapsed": false,
    "ExecuteTime": {
     "end_time": "2024-01-31T13:38:36.373940Z",
     "start_time": "2024-01-31T13:38:36.366275Z"
    }
   }
  },
  {
   "cell_type": "code",
   "execution_count": 34,
   "metadata": {
    "ExecuteTime": {
     "end_time": "2024-01-31T13:39:16.454547Z",
     "start_time": "2024-01-31T13:39:16.099117Z"
    }
   },
   "outputs": [],
   "source": [
    "# Берем тестовых юзеров в список c user_id\n",
    "test_users = test['user_id'].to_list()\n",
    "# Берем тестовые вакансии в список со списками вакансий сохраняя порядок\n",
    "test_vacancies = test.select(pl.col('vacancy_id').list.unique(maintain_order=True))['vacancy_id'].to_list()"
   ]
  },
  {
   "cell_type": "code",
   "execution_count": null,
   "metadata": {
    "is_executing": true,
    "ExecuteTime": {
     "start_time": "2024-01-31T13:42:01.555979Z"
    }
   },
   "outputs": [
    {
     "name": "stderr",
     "output_type": "stream",
     "text": [
      " 11%|█▏        | 9382/83189 [07:14<54:37, 22.52it/s]  "
     ]
    }
   ],
   "source": [
    "predictions = []\n",
    "# Запускаем цикл по парам user_id, vacancy_id\n",
    "\n",
    "for user, vacs in tqdm(zip(test_users, test_vacancies), total=len(test_users)):\n",
    "    # Если тестовый юзер отсутствует в трэйне, добавляем в predictions все его вакансии из теста\n",
    "    if user not in user2idx:\n",
    "        predictions.append(vacs)\n",
    "        continue\n",
    "    # определяем индекс текущего пользователя\n",
    "    cuser = user2idx[user]\n",
    "    # за\n",
    "    recommendations = als_model.recommend(cuser, uv_mat[cuser], N=N_PREDICTIONS)[0]\n",
    "    recommendations = [idx2vac[cv] for cv in recommendations]\n",
    "    predictions.append(recommendations)"
   ]
  },
  {
   "cell_type": "code",
   "execution_count": 31,
   "metadata": {},
   "outputs": [
    {
     "name": "stderr",
     "output_type": "stream",
     "text": [
      "/tmp/ipykernel_583187/2455226998.py:1: DeprecationWarning: Behavior for `lit` will change for sequence inputs. The result will change to be a literal of type List. To retain the old behavior, pass a Series instead, e.g. `Series(sequence)`.\n",
      "  test = test.with_columns(pl.lit(predictions).alias('predictions'))\n"
     ]
    }
   ],
   "source": [
    "test = test.with_columns(pl.lit(predictions).alias('predictions'))\n",
    "test.select(['user_id', 'session_id', 'predictions']).write_parquet('als_submission.pq')"
   ]
  },
  {
   "cell_type": "code",
   "execution_count": 32,
   "metadata": {},
   "outputs": [
    {
     "data": {
      "text/html": [
       "<div><style>\n",
       ".dataframe > thead > tr,\n",
       ".dataframe > tbody > tr {\n",
       "  text-align: right;\n",
       "  white-space: pre-wrap;\n",
       "}\n",
       "</style>\n",
       "<small>shape: (83_189, 6)</small><table border=\"1\" class=\"dataframe\"><thead><tr><th>user_id</th><th>session_id</th><th>vacancy_id</th><th>action_type</th><th>action_dt</th><th>predictions</th></tr><tr><td>str</td><td>str</td><td>list[str]</td><td>list[i64]</td><td>list[datetime[ns]]</td><td>list[str]</td></tr></thead><tbody><tr><td>&quot;u_482520&quot;</td><td>&quot;s_25018731&quot;</td><td>[&quot;v_2597196&quot;, &quot;v_1223061&quot;, &quot;v_1223061&quot;]</td><td>[2, 2, 1]</td><td>[2023-11-19 12:03:13.089, 2023-11-19 12:03:30.396, 2023-11-19 12:05:03.473]</td><td>[&quot;v_2650515&quot;, &quot;v_367301&quot;, … &quot;v_2337447&quot;]</td></tr><tr><td>&quot;u_582132&quot;</td><td>&quot;s_481216&quot;</td><td>[&quot;v_470400&quot;, &quot;v_470400&quot;, &quot;v_1530783&quot;]</td><td>[2, 1, 2]</td><td>[2023-11-21 15:39:47.981, 2023-11-21 15:43:57.620, 2023-11-21 15:44:37.982]</td><td>[&quot;v_1347362&quot;, &quot;v_1798396&quot;, … &quot;v_726002&quot;]</td></tr><tr><td>&quot;u_212584&quot;</td><td>&quot;s_16918781&quot;</td><td>[&quot;v_1572055&quot;, &quot;v_1572055&quot;, … &quot;v_1329494&quot;]</td><td>[2, 3, … 1]</td><td>[2023-11-16 08:41:47.031, 2023-11-16 08:45:21.403, … 2023-11-16 09:05:27.379]</td><td>[&quot;v_1572055&quot;, &quot;v_953153&quot;, … &quot;v_1329494&quot;]</td></tr><tr><td>&quot;u_425177&quot;</td><td>&quot;s_17505104&quot;</td><td>[&quot;v_1375331&quot;, &quot;v_1922852&quot;]</td><td>[2, 2]</td><td>[2023-11-17 12:42:18.513, 2023-11-17 12:43:52.744]</td><td>[&quot;v_2650515&quot;, &quot;v_367301&quot;, … &quot;v_676801&quot;]</td></tr><tr><td>&quot;u_700997&quot;</td><td>&quot;s_15528830&quot;</td><td>[&quot;v_2152997&quot;, &quot;v_2152997&quot;, &quot;v_1217630&quot;]</td><td>[2, 1, 2]</td><td>[2023-11-16 17:22:53.530, 2023-11-16 17:23:19.885, 2023-11-16 17:23:33.472]</td><td>[&quot;v_1431178&quot;, &quot;v_2395102&quot;, … &quot;v_1352210&quot;]</td></tr><tr><td>&quot;u_687201&quot;</td><td>&quot;s_11187326&quot;</td><td>[&quot;v_2602959&quot;, &quot;v_549337&quot;, … &quot;v_212060&quot;]</td><td>[2, 2, … 1]</td><td>[2023-11-21 14:41:30.546, 2023-11-21 15:00:25.506, … 2023-11-21 15:24:56.271]</td><td>[&quot;v_1465910&quot;, &quot;v_1586766&quot;, … &quot;v_668735&quot;]</td></tr><tr><td>&quot;u_573219&quot;</td><td>&quot;s_27394215&quot;</td><td>[&quot;v_1836184&quot;, &quot;v_2733253&quot;, … &quot;v_2297339&quot;]</td><td>[1, 2, … 2]</td><td>[2023-11-21 18:48:43.424, 2023-11-21 18:49:12.552, … 2023-11-21 19:48:55.704]</td><td>[&quot;v_701974&quot;, &quot;v_1081658&quot;, … &quot;v_27909&quot;]</td></tr><tr><td>&quot;u_1082782&quot;</td><td>&quot;s_30341164&quot;</td><td>[&quot;v_1026036&quot;, &quot;v_1026036&quot;, … &quot;v_206700&quot;]</td><td>[2, 1, … 2]</td><td>[2023-11-17 02:54:19.561, 2023-11-17 02:54:50.486, … 2023-11-17 03:21:22.008]</td><td>[&quot;v_964765&quot;, &quot;v_460169&quot;, … &quot;v_9584&quot;]</td></tr><tr><td>&quot;u_81444&quot;</td><td>&quot;s_1909964&quot;</td><td>[&quot;v_2497384&quot;, &quot;v_1480870&quot;, … &quot;v_1500697&quot;]</td><td>[2, 2, … 1]</td><td>[2023-11-15 12:38:34.579, 2023-11-15 13:03:41.360, … 2023-11-15 13:05:15.916]</td><td>[&quot;v_1431178&quot;, &quot;v_2395102&quot;, … &quot;v_2192945&quot;]</td></tr><tr><td>&quot;u_858357&quot;</td><td>&quot;s_12463318&quot;</td><td>[&quot;v_1085881&quot;, &quot;v_522338&quot;, … &quot;v_1776027&quot;]</td><td>[2, 2, … 2]</td><td>[2023-11-18 11:58:33.953, 2023-11-18 12:01:09.562, … 2023-11-18 14:39:24.255]</td><td>[&quot;v_1840884&quot;, &quot;v_1507795&quot;, … &quot;v_1876516&quot;]</td></tr><tr><td>&quot;u_136080&quot;</td><td>&quot;s_25066108&quot;</td><td>[&quot;v_1167642&quot;, &quot;v_613829&quot;, … &quot;v_2061106&quot;]</td><td>[2, 2, … 2]</td><td>[2023-11-21 05:09:14.167, 2023-11-21 05:10:02.996, … 2023-11-21 05:17:03.842]</td><td>[&quot;v_628246&quot;, &quot;v_926740&quot;, … &quot;v_2253806&quot;]</td></tr><tr><td>&quot;u_361893&quot;</td><td>&quot;s_12897073&quot;</td><td>[&quot;v_2188274&quot;, &quot;v_941470&quot;, … &quot;v_450701&quot;]</td><td>[2, 2, … 2]</td><td>[2023-11-21 16:03:36.003, 2023-11-21 16:04:07.515, … 2023-11-21 16:24:26.163]</td><td>[&quot;v_292120&quot;, &quot;v_1426084&quot;, … &quot;v_1003684&quot;]</td></tr><tr><td>&hellip;</td><td>&hellip;</td><td>&hellip;</td><td>&hellip;</td><td>&hellip;</td><td>&hellip;</td></tr><tr><td>&quot;u_27420&quot;</td><td>&quot;s_15647766&quot;</td><td>[&quot;v_779522&quot;, &quot;v_32918&quot;, … &quot;v_2382404&quot;]</td><td>[2, 2, … 2]</td><td>[2023-11-15 09:46:24.682, 2023-11-15 09:46:52.048, … 2023-11-15 09:55:07.684]</td><td>[&quot;v_137237&quot;, &quot;v_1463574&quot;, … &quot;v_1028534&quot;]</td></tr><tr><td>&quot;u_101925&quot;</td><td>&quot;s_9312767&quot;</td><td>[&quot;v_899404&quot;, &quot;v_2009859&quot;]</td><td>[2, 2]</td><td>[2023-11-17 10:54:18.637, 2023-11-17 12:19:55.239]</td><td>[&quot;v_460169&quot;, &quot;v_1431178&quot;, … &quot;v_168324&quot;]</td></tr><tr><td>&quot;u_105702&quot;</td><td>&quot;s_27857907&quot;</td><td>[&quot;v_473549&quot;, &quot;v_1137408&quot;]</td><td>[2, 2]</td><td>[2023-11-18 09:25:22.487, 2023-11-18 09:27:10.980]</td><td>[&quot;v_1857306&quot;, &quot;v_1438321&quot;, … &quot;v_85515&quot;]</td></tr><tr><td>&quot;u_485573&quot;</td><td>&quot;s_19643559&quot;</td><td>[&quot;v_1032129&quot;, &quot;v_1340903&quot;, &quot;v_1032129&quot;]</td><td>[2, 2, 2]</td><td>[2023-11-21 14:44:58.274, 2023-11-21 15:11:34.645, 2023-11-21 15:11:56.029]</td><td>[&quot;v_1730413&quot;, &quot;v_1232408&quot;, … &quot;v_2644585&quot;]</td></tr><tr><td>&quot;u_737688&quot;</td><td>&quot;s_5225203&quot;</td><td>[&quot;v_616873&quot;, &quot;v_2610004&quot;]</td><td>[2, 2]</td><td>[2023-11-20 12:37:56.056, 2023-11-20 12:41:23.243]</td><td>[&quot;v_2580478&quot;, &quot;v_1423085&quot;, … &quot;v_1873609&quot;]</td></tr><tr><td>&quot;u_366097&quot;</td><td>&quot;s_20110640&quot;</td><td>[&quot;v_307100&quot;, &quot;v_2040988&quot;, … &quot;v_2586611&quot;]</td><td>[2, 2, … 1]</td><td>[2023-11-17 15:31:42.944, 2023-11-17 15:32:01.187, … 2023-11-17 15:36:51.248]</td><td>[&quot;v_372548&quot;, &quot;v_444322&quot;, … &quot;v_1869222&quot;]</td></tr><tr><td>&quot;u_995221&quot;</td><td>&quot;s_21000652&quot;</td><td>[&quot;v_528661&quot;, &quot;v_528661&quot;, … &quot;v_199518&quot;]</td><td>[2, 1, … 2]</td><td>[2023-11-15 14:00:32.515, 2023-11-15 14:01:08.165, … 2023-11-15 14:04:31.812]</td><td>[&quot;v_2619838&quot;, &quot;v_542648&quot;, … &quot;v_1454784&quot;]</td></tr><tr><td>&quot;u_499368&quot;</td><td>&quot;s_19158589&quot;</td><td>[&quot;v_1716634&quot;, &quot;v_2232327&quot;, … &quot;v_1993650&quot;]</td><td>[2, 2, … 2]</td><td>[2023-11-18 03:15:15.530, 2023-11-18 03:19:20.971, … 2023-11-18 03:35:12.020]</td><td>[&quot;v_1716634&quot;, &quot;v_2232327&quot;, … &quot;v_1993650&quot;]</td></tr><tr><td>&quot;u_1084868&quot;</td><td>&quot;s_24756162&quot;</td><td>[&quot;v_395706&quot;, &quot;v_2405231&quot;]</td><td>[2, 2]</td><td>[2023-11-15 18:06:16.550, 2023-11-15 18:07:18.447]</td><td>[&quot;v_580809&quot;, &quot;v_1350249&quot;, … &quot;v_1368368&quot;]</td></tr><tr><td>&quot;u_1138032&quot;</td><td>&quot;s_25291467&quot;</td><td>[&quot;v_1213925&quot;, &quot;v_1213925&quot;, … &quot;v_2359832&quot;]</td><td>[2, 1, … 1]</td><td>[2023-11-19 23:19:44.092, 2023-11-19 23:27:22.739, … 2023-11-19 23:27:51.152]</td><td>[&quot;v_1213925&quot;, &quot;v_2359832&quot;]</td></tr><tr><td>&quot;u_608102&quot;</td><td>&quot;s_18813020&quot;</td><td>[&quot;v_933773&quot;, &quot;v_933773&quot;, … &quot;v_2667466&quot;]</td><td>[3, 2, … 2]</td><td>[2023-11-16 15:40:09.408, 2023-11-16 15:40:09.448, … 2023-11-16 16:18:05.927]</td><td>[&quot;v_1075856&quot;, &quot;v_186121&quot;, … &quot;v_182178&quot;]</td></tr><tr><td>&quot;u_847738&quot;</td><td>&quot;s_7662913&quot;</td><td>[&quot;v_875568&quot;, &quot;v_2677852&quot;, … &quot;v_1462102&quot;]</td><td>[2, 2, … 2]</td><td>[2023-11-17 13:34:03.386, 2023-11-17 13:34:57.675, … 2023-11-17 14:27:46.817]</td><td>[&quot;v_1964036&quot;, &quot;v_2716991&quot;, … &quot;v_937454&quot;]</td></tr></tbody></table></div>"
      ],
      "text/plain": [
       "shape: (83_189, 6)\n",
       "┌───────────┬────────────┬────────────────┬─────────────┬─────────────────────────┬────────────────┐\n",
       "│ user_id   ┆ session_id ┆ vacancy_id     ┆ action_type ┆ action_dt               ┆ predictions    │\n",
       "│ ---       ┆ ---        ┆ ---            ┆ ---         ┆ ---                     ┆ ---            │\n",
       "│ str       ┆ str        ┆ list[str]      ┆ list[i64]   ┆ list[datetime[ns]]      ┆ list[str]      │\n",
       "╞═══════════╪════════════╪════════════════╪═════════════╪═════════════════════════╪════════════════╡\n",
       "│ u_482520  ┆ s_25018731 ┆ [\"v_2597196\",  ┆ [2, 2, 1]   ┆ [2023-11-19             ┆ [\"v_2650515\",  │\n",
       "│           ┆            ┆ \"v_1223061\",   ┆             ┆ 12:03:13.089, 2023-1…   ┆ \"v_367301\", …  │\n",
       "│           ┆            ┆ \"v_12…         ┆             ┆                         ┆ \"v_2…          │\n",
       "│ u_582132  ┆ s_481216   ┆ [\"v_470400\",   ┆ [2, 1, 2]   ┆ [2023-11-21             ┆ [\"v_1347362\",  │\n",
       "│           ┆            ┆ \"v_470400\",    ┆             ┆ 15:39:47.981, 2023-1…   ┆ \"v_1798396\", … │\n",
       "│           ┆            ┆ \"v_1530…       ┆             ┆                         ┆ \"v_…           │\n",
       "│ u_212584  ┆ s_16918781 ┆ [\"v_1572055\",  ┆ [2, 3, … 1] ┆ [2023-11-16             ┆ [\"v_1572055\",  │\n",
       "│           ┆            ┆ \"v_1572055\", … ┆             ┆ 08:41:47.031, 2023-1…   ┆ \"v_953153\", …  │\n",
       "│           ┆            ┆ \"v_…           ┆             ┆                         ┆ \"v_1…          │\n",
       "│ u_425177  ┆ s_17505104 ┆ [\"v_1375331\",  ┆ [2, 2]      ┆ [2023-11-17             ┆ [\"v_2650515\",  │\n",
       "│           ┆            ┆ \"v_1922852\"]   ┆             ┆ 12:42:18.513, 2023-1…   ┆ \"v_367301\", …  │\n",
       "│           ┆            ┆                ┆             ┆                         ┆ \"v_6…          │\n",
       "│ …         ┆ …          ┆ …              ┆ …           ┆ …                       ┆ …              │\n",
       "│ u_1084868 ┆ s_24756162 ┆ [\"v_395706\",   ┆ [2, 2]      ┆ [2023-11-15             ┆ [\"v_580809\",   │\n",
       "│           ┆            ┆ \"v_2405231\"]   ┆             ┆ 18:06:16.550, 2023-1…   ┆ \"v_1350249\", … │\n",
       "│           ┆            ┆                ┆             ┆                         ┆ \"v_1…          │\n",
       "│ u_1138032 ┆ s_25291467 ┆ [\"v_1213925\",  ┆ [2, 1, … 1] ┆ [2023-11-19             ┆ [\"v_1213925\",  │\n",
       "│           ┆            ┆ \"v_1213925\", … ┆             ┆ 23:19:44.092, 2023-1…   ┆ \"v_2359832\"]   │\n",
       "│           ┆            ┆ \"v_…           ┆             ┆                         ┆                │\n",
       "│ u_608102  ┆ s_18813020 ┆ [\"v_933773\",   ┆ [3, 2, … 2] ┆ [2023-11-16             ┆ [\"v_1075856\",  │\n",
       "│           ┆            ┆ \"v_933773\", …  ┆             ┆ 15:40:09.408, 2023-1…   ┆ \"v_186121\", …  │\n",
       "│           ┆            ┆ \"v_26…         ┆             ┆                         ┆ \"v_1…          │\n",
       "│ u_847738  ┆ s_7662913  ┆ [\"v_875568\",   ┆ [2, 2, … 2] ┆ [2023-11-17             ┆ [\"v_1964036\",  │\n",
       "│           ┆            ┆ \"v_2677852\", … ┆             ┆ 13:34:03.386, 2023-1…   ┆ \"v_2716991\", … │\n",
       "│           ┆            ┆ \"v_1…          ┆             ┆                         ┆ \"v_…           │\n",
       "└───────────┴────────────┴────────────────┴─────────────┴─────────────────────────┴────────────────┘"
      ]
     },
     "execution_count": 32,
     "metadata": {},
     "output_type": "execute_result"
    }
   ],
   "source": [
    "test"
   ]
  },
  {
   "cell_type": "code",
   "execution_count": null,
   "metadata": {},
   "outputs": [],
   "source": []
  }
 ],
 "metadata": {
  "kernelspec": {
   "display_name": ".venv",
   "language": "python",
   "name": "python3"
  },
  "language_info": {
   "codemirror_mode": {
    "name": "ipython",
    "version": 3
   },
   "file_extension": ".py",
   "mimetype": "text/x-python",
   "name": "python",
   "nbconvert_exporter": "python",
   "pygments_lexer": "ipython3",
   "version": "3.9.16"
  }
 },
 "nbformat": 4,
 "nbformat_minor": 2
}
